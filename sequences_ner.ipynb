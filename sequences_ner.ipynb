{
  "cells": [
    {
      "cell_type": "markdown",
      "metadata": {
        "id": "W3W68fXhinqH"
      },
      "source": [
        "# Тестовое задание \n",
        "\n",
        "   Ваша задача написать пайплайн для тренировки модели глубоко обучения (любую – **embeddings + LSTM, Bert** …) с использованием следующих инструментов: pytorch, sklearn, matplotlib – для решения задачи **NER** (извлечения сущностей).\n",
        "\n",
        "   В качестве данных используется датасет **Conll2003** с четырьмя классами **Per, Org, Loc, Misc** в формате **Conll**.\n",
        "\n",
        "   В тетрадке ниже заданы основные классы и функции для построения требуемого пайплайн, какие-то уже имплементированы, какие-то – нет. Их требуется доработать. Тем не менее если данный набор абстракций вам не подходит Вы можете написать свой пайплайн «с нуля», однако обоснованность у этих действий должна быть."
      ]
    },
    {
      "cell_type": "code",
      "execution_count": null,
      "metadata": {
        "id": "lO02hxOVVlmP"
      },
      "outputs": [],
      "source": [
        "import os\n",
        "\n",
        "dir_content = os.listdir()\n",
        "if 'eng.testa' not in dir_content and 'eng.train' not in dir_content:\n",
        "    !wget https://raw.githubusercontent.com/synalp/NER/master/corpus/CoNLL-2003/eng.testa\n",
        "    !wget https://raw.githubusercontent.com/synalp/NER/master/corpus/CoNLL-2003/eng.train"
      ]
    },
    {
      "cell_type": "code",
      "execution_count": null,
      "metadata": {
        "id": "61Q6EAQsXMgf"
      },
      "outputs": [],
      "source": [
        "import torch\n",
        "import torch.nn.functional as F\n",
        "from torch.utils.data import Dataset, DataLoader\n",
        "from torch.optim import Adam\n",
        "from typing import List\n",
        "from collections import Counter\n",
        "import matplotlib.pyplot as plt\n",
        "from tqdm import tqdm\n",
        "from torch import nn\n",
        "from sklearn.metrics import classification_report\n",
        "import itertools\n",
        "import math"
      ]
    },
    {
      "cell_type": "code",
      "execution_count": null,
      "metadata": {
        "colab": {
          "base_uri": "https://localhost:8080/"
        },
        "id": "HUVbuWYaT1YI",
        "outputId": "847f0b22-d82e-41ec-a556-b5d0629e4558"
      },
      "outputs": [
        {
          "name": "stderr",
          "output_type": "stream",
          "text": [
            "100%|██████████| 219554/219554 [00:00<00:00, 481846.05it/s]\n",
            "100%|██████████| 55045/55045 [00:00<00:00, 668417.64it/s]\n"
          ]
        }
      ],
      "source": [
        "def read_data(file):\n",
        "  lines = open(file, \"r\").readlines()\n",
        "  data = {\"sentences\": [], \"labels_per_sent\": []}\n",
        "  sentence, labels = [], []\n",
        "  for line in tqdm(lines):\n",
        "    line = line.strip()\n",
        "    if not line:\n",
        "      if sentence and labels:\n",
        "        assert len(sentence) == len(labels)\n",
        "        data[\"sentences\"].append(sentence)\n",
        "        data[\"labels_per_sent\"].append(labels)\n",
        "        sentence, labels = [], []\n",
        "      continue\n",
        "    if line.startswith(\"-DOCSTART-\"):\n",
        "      continue\n",
        "    else:\n",
        "      values = line.split(\" \")\n",
        "      try:\n",
        "        token, _, _, label = values\n",
        "        sentence.append(token)\n",
        "        if label != 'O':\n",
        "          labels.append(label.split('-')[-1])\n",
        "        else:\n",
        "          labels.append(label)\n",
        "\n",
        "      except Exception as e:\n",
        "        print(f\"Error has occur: {e}\")\n",
        "        continue\n",
        "  return data\n",
        "\n",
        "\n",
        "train = read_data(\"eng.train\")\n",
        "valid = read_data(\"eng.testa\")"
      ]
    },
    {
      "cell_type": "code",
      "execution_count": null,
      "metadata": {
        "colab": {
          "base_uri": "https://localhost:8080/"
        },
        "id": "Vygr2LT6jxI3",
        "outputId": "a211d33e-c40e-40fe-8596-dac47cfcb8fa"
      },
      "outputs": [
        {
          "data": {
            "text/plain": [
              "3250"
            ]
          },
          "execution_count": 31,
          "metadata": {},
          "output_type": "execute_result"
        }
      ],
      "source": [
        "len(valid['sentences'])"
      ]
    },
    {
      "cell_type": "code",
      "execution_count": null,
      "metadata": {
        "colab": {
          "base_uri": "https://localhost:8080/"
        },
        "id": "O1lyVFf4Uvn2",
        "outputId": "17a2a81e-7bf6-42ed-9771-5e3df04ed00d"
      },
      "outputs": [
        {
          "data": {
            "text/plain": [
              "(['EU', 'rejects', 'German', 'call', 'to', 'boycott', 'British', 'lamb', '.'],\n",
              " ['ORG', 'O', 'MISC', 'O', 'O', 'O', 'MISC', 'O', 'O'])"
            ]
          },
          "execution_count": 32,
          "metadata": {},
          "output_type": "execute_result"
        }
      ],
      "source": [
        "train[\"sentences\"][0], train[\"labels_per_sent\"][0]"
      ]
    },
    {
      "cell_type": "code",
      "execution_count": null,
      "metadata": {
        "colab": {
          "base_uri": "https://localhost:8080/"
        },
        "id": "fJDxtTCEXL-x",
        "outputId": "f6c79927-9e81-4cc5-8ef8-46ee6155ed40"
      },
      "outputs": [
        {
          "data": {
            "text/plain": [
              "(['LONDON', '1996-08-30'], ['LOC', 'O'])"
            ]
          },
          "execution_count": 33,
          "metadata": {},
          "output_type": "execute_result"
        }
      ],
      "source": [
        "valid[\"sentences\"][1], valid[\"labels_per_sent\"][1]"
      ]
    },
    {
      "cell_type": "code",
      "execution_count": null,
      "metadata": {
        "id": "pfaKNmZUcfvg"
      },
      "outputs": [],
      "source": [
        "def truncate_dataset(dataset): # ram is dying for some reason. Until better days - a hack\n",
        "    truncated_sentences = []\n",
        "    truncated_labels = []\n",
        "    for sentence, labels in zip(dataset['sentences'], dataset['labels_per_sent']):\n",
        "        if len(sentence) < 40:\n",
        "            truncated_sentences.append(sentence)\n",
        "            truncated_labels.append(labels)\n",
        "    return truncated_sentences, truncated_labels\n",
        "train['sentences'], train['labels_per_sent'] = truncate_dataset(train)\n",
        "valid['sentences'], valid['labels_per_sent'] = truncate_dataset(valid)"
      ]
    },
    {
      "cell_type": "code",
      "execution_count": null,
      "metadata": {
        "id": "BJPmcYrsVlma"
      },
      "outputs": [],
      "source": [
        "word_list = list(set(itertools.chain(*train['sentences']))) + ['PAD'] + ['OOV']\n",
        "label_list = list(set(itertools.chain(*train['labels_per_sent'])))\n",
        "labels_to_ids = {k:v for v, k in enumerate(label_list)}\n",
        "ids_to_labels = {v:k for v, k in enumerate(label_list)}\n",
        "words_to_ids = {k:v for v, k in enumerate(word_list)}\n",
        "ids_to_words = {v:k for v, k in enumerate(word_list)}"
      ]
    },
    {
      "cell_type": "code",
      "execution_count": null,
      "metadata": {
        "colab": {
          "base_uri": "https://localhost:8080/"
        },
        "id": "KynUTxRDVlmb",
        "outputId": "d1cf7818-3948-453c-96eb-ecd5cd7c9efe"
      },
      "outputs": [
        {
          "data": {
            "text/plain": [
              "{'LOC': 1, 'MISC': 2, 'O': 0, 'ORG': 4, 'PER': 3}"
            ]
          },
          "execution_count": 36,
          "metadata": {},
          "output_type": "execute_result"
        }
      ],
      "source": [
        "labels_to_ids"
      ]
    },
    {
      "cell_type": "code",
      "execution_count": null,
      "metadata": {
        "id": "lksWDE2MZaGU"
      },
      "outputs": [],
      "source": [
        "def get_label_distribution(labels: List[List[str]]):\n",
        "  labels = [label for labels_per_sent in labels for label in labels_per_sent]\n",
        "  return Counter(labels)"
      ]
    },
    {
      "cell_type": "code",
      "execution_count": null,
      "metadata": {
        "id": "QL5KBeDUan66"
      },
      "outputs": [],
      "source": [
        "train_distribution = get_label_distribution(train[\"labels_per_sent\"])\n",
        "valid_distribution = get_label_distribution(valid[\"labels_per_sent\"])"
      ]
    },
    {
      "cell_type": "code",
      "execution_count": null,
      "metadata": {
        "colab": {
          "base_uri": "https://localhost:8080/",
          "height": 547
        },
        "id": "Ma7HHMQua3L8",
        "outputId": "50ddab01-f511-440c-e1d5-3e296ded4453"
      },
      "outputs": [
        {
          "name": "stdout",
          "output_type": "stream",
          "text": [
            "Train distribution\n"
          ]
        },
        {
          "data": {
            "image/png": "[encoded data removed]",
            "text/plain": [
              "<Figure size 432x288 with 1 Axes>"
            ]
          },
          "metadata": {
            "needs_background": "light"
          },
          "output_type": "display_data"
        },
        {
          "name": "stdout",
          "output_type": "stream",
          "text": [
            "Valid distribution\n"
          ]
        },
        {
          "data": {
            "image/png": "[encoded data removed]",
            "text/plain": [
              "<Figure size 432x288 with 1 Axes>"
            ]
          },
          "metadata": {
            "needs_background": "light"
          },
          "output_type": "display_data"
        }
      ],
      "source": [
        "def visualize_distr(data: Counter):\n",
        "  labels = list(data.keys())\n",
        "  plt.bar(x=labels, height=list(data.values()))\n",
        "  plt.show()\n",
        "\n",
        "\n",
        "print(\"Train distribution\")\n",
        "visualize_distr(train_distribution)\n",
        "print(\"Valid distribution\")\n",
        "visualize_distr(valid_distribution)"
      ]
    },
    {
      "cell_type": "code",
      "execution_count": null,
      "metadata": {
        "id": "jdWPQAkRVlmi"
      },
      "outputs": [],
      "source": [
        "class PositionalEmbedding(nn.Module):\n",
        "    def __init__(self, d_model, max_seq_len = 80):\n",
        "        super().__init__()\n",
        "        self.d_model = d_model\n",
        "        pe = torch.zeros(max_seq_len, d_model)\n",
        "        pe.requires_grad = False\n",
        "        for pos in range(max_seq_len):\n",
        "            for i in range(0, d_model, 2):\n",
        "                pe[pos, i] = math.sin(pos / (10000 ** ((2 * i) / d_model)))\n",
        "                pe[pos, i + 1] = math.cos(pos / (10000 ** ((2 * (i + 1)) / d_model)))\n",
        "        pe = pe.unsqueeze(0)\n",
        "        self.register_buffer('pe', pe)\n",
        "\n",
        "    def forward(self, x):\n",
        "        return self.pe[:, :x.size(1)]"
      ]
    },
    {
      "cell_type": "code",
      "execution_count": null,
      "metadata": {
        "id": "CUopWp23Vlmj"
      },
      "outputs": [],
      "source": [
        "def attention(q, k, v, mask = None, dropout = None):\n",
        "    scores  = q.matmul(k.transpose(-2, -1))\n",
        "    scores /= math.sqrt(q.shape[-1])\n",
        "\n",
        "    scores = scores if mask is None else scores.masked_fill(mask == 0, -1e3)\n",
        "\n",
        "    scores = F.softmax(scores, dim = -1)\n",
        "    scores = dropout(scores) if dropout is not None else scores\n",
        "    output = scores.matmul(v)\n",
        "    return output"
      ]
    },
    {
      "cell_type": "code",
      "execution_count": null,
      "metadata": {
        "id": "q375zw9aVlmk"
      },
      "outputs": [],
      "source": [
        "class MultiHeadAttention(nn.Module):\n",
        "    def __init__(self, n_heads, out_dim, dropout=0.1):\n",
        "        super().__init__()\n",
        "        self.linear = nn.Linear(out_dim, out_dim*3)\n",
        "        self.n_heads = n_heads\n",
        "        self.out_dim = out_dim\n",
        "        self.out_dim_per_head = out_dim // n_heads\n",
        "        self.out = nn.Linear(out_dim, out_dim)\n",
        "        self.dropout = nn.Dropout(dropout)\n",
        "    \n",
        "    def split_heads(self, t):\n",
        "        return t.reshape(t.shape[0], -1, self.n_heads, self.out_dim_per_head)\n",
        "\n",
        "    def forward(self, x, y=None, mask=None):\n",
        "        y = x if y is None else y \n",
        "\n",
        "        qkv = self.linear(x)\n",
        "        q = qkv[:, :, :self.out_dim]\n",
        "        k = qkv[:, :, self.out_dim:self.out_dim * 2]\n",
        "        v = qkv[:, :, self.out_dim * 2:]\n",
        "\n",
        "        q, k, v = [self.split_heads(t) for t in (q, k, v)]\n",
        "        q, k, v = [t.transpose(1, 2) for t in (q, k, v)]\n",
        "\n",
        "        scores = attention(q, k, v, mask, self.dropout)\n",
        "        scores = scores.transpose(1, 2).contiguous().view(scores.shape[0], -1, self.out_dim)\n",
        "        out = self.out(scores)\n",
        "\n",
        "        return out\n",
        "        "
      ]
    },
    {
      "cell_type": "code",
      "execution_count": null,
      "metadata": {
        "id": "RekPUSxtVlml"
      },
      "outputs": [],
      "source": [
        "class FeedForward(nn.Module):\n",
        "    def __init__(self, inp_dim, inner_dim, dropout=0.1):\n",
        "        super().__init__()\n",
        "        self.linear1 = nn.Linear(inp_dim, inner_dim)\n",
        "        self.linear2 = nn.Linear(inner_dim, inp_dim)\n",
        "        self.dropout = nn.Dropout(dropout)\n",
        "\n",
        "    def forward(self, x):\n",
        "        return self.linear2(self.dropout(F.relu(self.linear1(x))))"
      ]
    },
    {
      "cell_type": "code",
      "execution_count": null,
      "metadata": {
        "id": "fRuJ4kSOVlmm"
      },
      "outputs": [],
      "source": [
        "class EncoderLayer(nn.Module):\n",
        "    def __init__(self, n_heads, inner_transformer_size, inner_ff_size, dropout=0.1):\n",
        "        super().__init__()\n",
        "        self.mha = MultiHeadAttention(n_heads, inner_transformer_size, dropout)\n",
        "        self.ff = FeedForward(inner_transformer_size, inner_ff_size, dropout)\n",
        "        self.norm1 = nn.LayerNorm(inner_transformer_size)\n",
        "        self.norm2 = nn.LayerNorm(inner_transformer_size)\n",
        "        self.dropout1 = nn.Dropout(dropout)\n",
        "        self.dropout2 = nn.Dropout(dropout)\n",
        "    \n",
        "    def forward(self, x, mask=None):\n",
        "        x2 = self.norm1(x)\n",
        "        x = x + self.dropout1(self.mha(x2, mask = mask))\n",
        "        x2 = self.norm2(x)\n",
        "        x = x + self.dropout2(self.ff(x2))\n",
        "        return x"
      ]
    },
    {
      "cell_type": "code",
      "execution_count": null,
      "metadata": {
        "id": "cKWv9VXXVlmn"
      },
      "outputs": [],
      "source": [
        "class Transformer(nn.Module):\n",
        "    def __init__(self, n_code, n_heads, embed_size, inner_ff_size, n_embeddings, seq_len, n_targets, dropout=0.1):\n",
        "        super().__init__()\n",
        "\n",
        "        self.embeddings = nn.Embedding(n_embeddings, embed_size)\n",
        "        self.pe = PositionalEmbedding(embed_size, seq_len)\n",
        "\n",
        "        encoders = []\n",
        "        for i in range(n_code):\n",
        "            encoders += [EncoderLayer(n_heads, embed_size, inner_ff_size, dropout)]\n",
        "        self.encoders = nn.ModuleList(encoders)\n",
        "\n",
        "        self.norm = nn.LayerNorm(embed_size)\n",
        "        self.linear = nn.Linear(embed_size, n_targets, bias=False)\n",
        "\n",
        "    def forward(self, x, mask):\n",
        "        x = self.embeddings(x)\n",
        "        x = x + self.pe(x)\n",
        "        for encoder in self.encoders:\n",
        "            x = encoder(x, mask)\n",
        "        x = self.norm(x)\n",
        "        x = self.linear(x)\n",
        "        return x"
      ]
    },
    {
      "cell_type": "code",
      "execution_count": null,
      "metadata": {
        "id": "tlO1AWxXYPVl"
      },
      "outputs": [],
      "source": [
        "class NERDataset(Dataset):\n",
        "\n",
        "  def __init__(self, data, seq_len=60):\n",
        "    self.seq_len = seq_len\n",
        "    self.encoded_sentences = []\n",
        "    self.encoded_labels = []\n",
        "    self.oov_id = words_to_ids['OOV']\n",
        "    for sentence in data['sentences']:\n",
        "      encoded_sentence = [words_to_ids[word] if word in words_to_ids.keys() else self.oov_id  for word in sentence]\n",
        "      self.encoded_sentences.append(encoded_sentence)\n",
        "    for sentence_labels in data['labels_per_sent']:\n",
        "      enc_sent_labels = [labels_to_ids[label] for label in sentence_labels]\n",
        "      self.encoded_labels.append(enc_sent_labels)\n",
        "      \n",
        "  def __getitem__(self, index):\n",
        "\n",
        "    sentence = train['sentences'][index]\n",
        "    padding_len = (self.seq_len - len(sentence))\n",
        "    padding = ['PAD'] * padding_len\n",
        "    sentence = sentence[:] + padding\n",
        "    encoded_sentence = [words_to_ids[word] for word in sentence]\n",
        "\n",
        "    labels = train['labels_per_sent'][index]\n",
        "    encoded_labels = [labels_to_ids[label] for label in labels]\n",
        "    label_padding = [-100] * padding_len\n",
        "    encoded_labels += label_padding\n",
        "    attention_mask = [1] * self.seq_len\n",
        "    for i in range(padding_len):\n",
        "      attention_mask[-i-1] = 0\n",
        "    \n",
        "    return torch.Tensor((encoded_sentence, encoded_labels, attention_mask))\n",
        "\n",
        "  def __len__(self):\n",
        "    return len(self.encoded_sentences)"
      ]
    },
    {
      "cell_type": "code",
      "execution_count": null,
      "metadata": {
        "id": "s5CWl9MbVlmq"
      },
      "outputs": [],
      "source": [
        "embed_size = 64\n",
        "n_code = 4\n",
        "n_heads = 8\n",
        "inner_ff_size = 256\n",
        "n_embeddings = len(words_to_ids.keys())\n",
        "seq_len = 40\n",
        "n_targets = len(label_list)"
      ]
    },
    {
      "cell_type": "code",
      "execution_count": null,
      "metadata": {
        "id": "_wWk6mP4Vlmr"
      },
      "outputs": [],
      "source": [
        "train_dataset = NERDataset(train, seq_len=seq_len)\n",
        "valid_dataset = NERDataset(valid, seq_len=seq_len)\n",
        "\n",
        "train_dataloader = DataLoader(train_dataset, batch_size=1, shuffle=True)\n",
        "valid_dataloader = DataLoader(valid_dataset, batch_size=1, shuffle=True)"
      ]
    },
    {
      "cell_type": "code",
      "execution_count": null,
      "metadata": {
        "id": "otmgx-bDajgG"
      },
      "outputs": [],
      "source": [
        "device = torch.device('cuda' if torch.cuda.is_available() else 'cpu')"
      ]
    },
    {
      "cell_type": "code",
      "execution_count": null,
      "metadata": {
        "id": "__G8sNO0eGfp"
      },
      "outputs": [],
      "source": [
        "model = Transformer(n_code, n_heads, embed_size, inner_ff_size, n_embeddings, seq_len, n_targets)\n",
        "if device.type == 'cuda':\n",
        "    model = model.to(device)"
      ]
    },
    {
      "cell_type": "code",
      "execution_count": null,
      "metadata": {
        "id": "mSxc2qQTfvJu"
      },
      "outputs": [],
      "source": [
        "def transform_logits(predictions: List[torch.tensor]):\n",
        "  output = F.softmax(predictions, dim=1)\n",
        "  return output\n",
        "\n",
        "def transform_target(target_labels: List[torch.tensor]):\n",
        "  pass"
      ]
    },
    {
      "cell_type": "code",
      "execution_count": null,
      "metadata": {
        "id": "Bk0M2FPNhD25"
      },
      "outputs": [],
      "source": [
        "def count_metrics(gold_labels_per_sentence: List[List[str]], predict_labels_per_sentence: List[List[str]]):\n",
        "  gold_labels = [l for l_per_sent in gold_labels_per_sentence for l in l_per_sent]\n",
        "  predict_labels = [l for l_per_sent in predict_labels_per_sentence for l in l_per_sent]\n",
        "  unpadded_gold_labels = []\n",
        "  unpadded_predict_labels = []\n",
        "  for gold_label, pred_label  in zip(gold_labels, predict_labels):\n",
        "      if gold_label != -100:\n",
        "          unpadded_gold_labels.append(gold_label)\n",
        "          unpadded_predict_labels.append(pred_label)\n",
        "\n",
        "  print(classification_report(unpadded_gold_labels, unpadded_predict_labels, zero_division=1))"
      ]
    },
    {
      "cell_type": "code",
      "execution_count": null,
      "metadata": {
        "id": "3eNbPq8PVlmu"
      },
      "outputs": [],
      "source": [
        "optim_kwargs = {'lr':2e-3, 'weight_decay':1e-4, 'betas':(.9,.999)}"
      ]
    },
    {
      "cell_type": "code",
      "execution_count": null,
      "metadata": {
        "colab": {
          "base_uri": "https://localhost:8080/"
        },
        "id": "_c45KAbxd7Yt",
        "outputId": "8b638929-0753-4c0b-c612-7cd81ee6f136"
      },
      "outputs": [
        {
          "name": "stdout",
          "output_type": "stream",
          "text": [
            "Start epoch #0\n"
          ]
        },
        {
          "name": "stderr",
          "output_type": "stream",
          "text": [
            "100%|██████████| 13546/13546 [12:40<00:00, 17.82it/s]\n",
            "100%|██████████| 3098/3098 [00:45<00:00, 68.45it/s]\n"
          ]
        },
        {
          "name": "stdout",
          "output_type": "stream",
          "text": [
            "              precision    recall  f1-score   support\n",
            "\n",
            "           0       0.96      0.99      0.98     34561\n",
            "           1       0.77      0.65      0.71      2110\n",
            "           2       0.72      0.35      0.47      1083\n",
            "           3       0.76      0.71      0.74      2809\n",
            "           4       0.51      0.46      0.49      1644\n",
            "\n",
            "    accuracy                           0.92     42207\n",
            "   macro avg       0.75      0.63      0.68     42207\n",
            "weighted avg       0.91      0.92      0.91     42207\n",
            "\n",
            "End epoch #0\n",
            "Start epoch #1\n"
          ]
        },
        {
          "name": "stderr",
          "output_type": "stream",
          "text": [
            "100%|██████████| 13546/13546 [17:38<00:00, 12.79it/s]\n",
            "100%|██████████| 3098/3098 [01:13<00:00, 42.28it/s]\n"
          ]
        },
        {
          "name": "stdout",
          "output_type": "stream",
          "text": [
            "              precision    recall  f1-score   support\n",
            "\n",
            "           0       0.96      1.00      0.98     34561\n",
            "           1       0.89      0.82      0.86      2110\n",
            "           2       0.87      0.69      0.77      1083\n",
            "           3       0.91      0.85      0.88      2809\n",
            "           4       0.88      0.47      0.61      1644\n",
            "\n",
            "    accuracy                           0.95     42207\n",
            "   macro avg       0.90      0.77      0.82     42207\n",
            "weighted avg       0.95      0.95      0.95     42207\n",
            "\n",
            "End epoch #1\n",
            "Start epoch #2\n"
          ]
        },
        {
          "name": "stderr",
          "output_type": "stream",
          "text": [
            "100%|██████████| 13546/13546 [19:09<00:00, 11.78it/s]\n",
            "100%|██████████| 3098/3098 [01:20<00:00, 38.40it/s]\n"
          ]
        },
        {
          "name": "stdout",
          "output_type": "stream",
          "text": [
            "              precision    recall  f1-score   support\n",
            "\n",
            "           0       0.98      1.00      0.99     34561\n",
            "           1       0.95      0.84      0.89      2110\n",
            "           2       0.89      0.75      0.81      1083\n",
            "           3       0.93      0.91      0.92      2809\n",
            "           4       0.82      0.73      0.77      1644\n",
            "\n",
            "    accuracy                           0.96     42207\n",
            "   macro avg       0.91      0.84      0.88     42207\n",
            "weighted avg       0.96      0.96      0.96     42207\n",
            "\n",
            "End epoch #2\n",
            "Start epoch #3\n"
          ]
        },
        {
          "name": "stderr",
          "output_type": "stream",
          "text": [
            "100%|██████████| 13546/13546 [19:58<00:00, 11.31it/s]\n",
            "100%|██████████| 3098/3098 [01:17<00:00, 40.07it/s]\n"
          ]
        },
        {
          "name": "stdout",
          "output_type": "stream",
          "text": [
            "              precision    recall  f1-score   support\n",
            "\n",
            "           0       0.98      0.99      0.99     34561\n",
            "           1       0.85      0.92      0.88      2110\n",
            "           2       0.93      0.77      0.84      1083\n",
            "           3       0.93      0.91      0.92      2809\n",
            "           4       0.84      0.75      0.79      1644\n",
            "\n",
            "    accuracy                           0.97     42207\n",
            "   macro avg       0.91      0.87      0.89     42207\n",
            "weighted avg       0.97      0.97      0.97     42207\n",
            "\n",
            "End epoch #3\n",
            "Start epoch #4\n"
          ]
        },
        {
          "name": "stderr",
          "output_type": "stream",
          "text": [
            "100%|██████████| 13546/13546 [20:18<00:00, 11.11it/s]\n",
            "100%|██████████| 3098/3098 [01:21<00:00, 37.84it/s]\n"
          ]
        },
        {
          "name": "stdout",
          "output_type": "stream",
          "text": [
            "              precision    recall  f1-score   support\n",
            "\n",
            "           0       0.98      0.99      0.99     34561\n",
            "           1       0.94      0.86      0.90      2110\n",
            "           2       0.91      0.81      0.86      1083\n",
            "           3       0.95      0.90      0.92      2809\n",
            "           4       0.77      0.81      0.79      1644\n",
            "\n",
            "    accuracy                           0.97     42207\n",
            "   macro avg       0.91      0.87      0.89     42207\n",
            "weighted avg       0.97      0.97      0.97     42207\n",
            "\n",
            "End epoch #4\n",
            "Start epoch #5\n"
          ]
        },
        {
          "name": "stderr",
          "output_type": "stream",
          "text": [
            " 18%|█▊        | 2371/13546 [03:36<33:29,  5.56it/s]"
          ]
        }
      ],
      "source": [
        "losses = {\"train_losses\": [], \"valid_losses\": []}\n",
        "\n",
        "epochs = 10\n",
        "optimizer = Adam(model.parameters(), **optim_kwargs)\n",
        "\n",
        "criterion = torch.nn.CrossEntropyLoss()\n",
        "\n",
        "if device.type == 'cuda':\n",
        "  criterion = criterion.to(device)\n",
        "\n",
        "for epoch in range(epochs):\n",
        "\n",
        "  print(f\"Start epoch #{epoch}\")\n",
        "  model.train()\n",
        "  train_stream = tqdm(train_dataloader) \n",
        "  for train_batch in train_stream:\n",
        "    if device.type == 'cuda':\n",
        "      train_batch = train_batch.to(device)\n",
        "    words, targets, attention_mask = train_batch[0]\n",
        "    output = model.forward(words.long(), attention_mask)\n",
        "    output = output.permute(0,2,1)\n",
        "    targets = targets.view(1, -1).long()\n",
        "    loss = criterion(output, targets)\n",
        "    losses[\"train_losses\"].append(loss)\n",
        "    optimizer.zero_grad()\n",
        "    loss.backward()\n",
        "    optimizer.step()\n",
        "  train_stream.set_description(f'loss = {loss}')\n",
        "    \n",
        "\n",
        "    \n",
        "\n",
        "  predict_labels, gold_labels = [], []\n",
        "  model.eval()\n",
        "  for valid_batch in tqdm(valid_dataloader):\n",
        "    with torch.no_grad():\n",
        "      if device.type == 'cuda':\n",
        "        valid_batch = valid_batch.to(device)\n",
        "      words, targets, attention_mask = valid_batch[0]\n",
        "      output = model.forward(words.long(), attention_mask)\n",
        "      output = output.permute(0,2,1)\n",
        "      targets = targets.view(1, -1).long()\n",
        "      loss = criterion(output, targets)\n",
        "      losses[\"valid_losses\"].append(loss)\n",
        "      gold_labels.append(targets.view(-1).tolist())\n",
        "      predict_labels.append(transform_logits(output).argmax(1).squeeze().tolist())\n",
        "\n",
        "  count_metrics(gold_labels, predict_labels)\n",
        "  \n",
        "  print(f\"End epoch #{epoch}\")"
      ]
    }
  ],
  "metadata": {
    "colab": {
      "collapsed_sections": [],
      "name": "sequences_ner.ipynb",
      "provenance": []
    },
    "interpreter": {
      "hash": "066864cf9ab52702bb542d58cbb84bfaef4645ed429b69b87fb3e23da877164c"
    },
    "kernelspec": {
      "display_name": "Python 3.9.4 64-bit ('hse_dl-91HJo2f8': pipenv)",
      "name": "python3"
    },
    "language_info": {
      "codemirror_mode": {
        "name": "ipython",
        "version": 3
      },
      "file_extension": ".py",
      "mimetype": "text/x-python",
      "name": "python",
      "nbconvert_exporter": "python",
      "pygments_lexer": "ipython3",
      "version": "3.9.4"
    }
  },
  "nbformat": 4,
  "nbformat_minor": 0
}
